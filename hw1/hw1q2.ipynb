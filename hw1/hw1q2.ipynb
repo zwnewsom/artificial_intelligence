{
  "nbformat": 4,
  "nbformat_minor": 0,
  "metadata": {
    "colab": {
      "name": "hw1q2.ipynb",
      "provenance": []
    },
    "kernelspec": {
      "name": "python3",
      "display_name": "Python 3"
    }
  },
  "cells": [
    {
      "cell_type": "markdown",
      "metadata": {
        "id": "T1WG2h98sANM",
        "colab_type": "text"
      },
      "source": [
        "## Question 2:"
      ]
    },
    {
      "cell_type": "code",
      "metadata": {
        "id": "ep0YkQqzsG_V",
        "colab_type": "code",
        "outputId": "00ad4a5b-a36f-439b-b3ce-ca39333535b3",
        "colab": {
          "base_uri": "https://localhost:8080/",
          "height": 294
        }
      },
      "source": [
        "%matplotlib inline\n",
        "import matplotlib as mpl\n",
        "import matplotlib.pyplot as plt\n",
        "mpl.rc('axes', labelsize=14)\n",
        "mpl.rc('xtick', labelsize=12)\n",
        "mpl.rc('ytick', labelsize=12)\n",
        "\n",
        "import numpy as np\n",
        "np.random.seed(42)\n",
        "\n",
        "xs1 = 2 * np.random.rand(100, 1)\n",
        "xs2 = 2 * np.random.rand(100, 1)\n",
        "w1 = np.random.randn(1)\n",
        "w2 = np.random.randn(1)\n",
        "ys = 4 + w1*xs1 + w2*xs2 + np.random.rand(100, 1)\n",
        "\n",
        "plt.plot(xs1 + xs2, ys, \"b.\")\n",
        "plt.xlabel(\"$x_1$\", fontsize=18)\n",
        "plt.ylabel(\"$y$\", rotation=0, fontsize=18)\n",
        "plt.axis([0, 2, 0, 15])\n",
        "plt.show()"
      ],
      "execution_count": 8,
      "outputs": [
        {
          "output_type": "display_data",
          "data": {
            "image/png": "[encoded data removed]",
            "text/plain": [
              "<Figure size 432x288 with 1 Axes>"
            ]
          },
          "metadata": {
            "tags": []
          }
        }
      ]
    },
    {
      "cell_type": "code",
      "metadata": {
        "id": "auG0IjlasXui",
        "colab_type": "code",
        "outputId": "87fce2ce-6452-4029-987d-48d806b571c3",
        "colab": {
          "base_uri": "https://localhost:8080/",
          "height": 34
        }
      },
      "source": [
        "# split the data into training and test sets\n",
        "# train set\n",
        "train_xs1 = xs1[:80]\n",
        "train_xs2 = xs2[:80]\n",
        "train_ys = ys[:80]\n",
        "# test set\n",
        "test_xs1 = xs1[80:]\n",
        "test_xs2 = xs2[80:]\n",
        "test_ys = ys[80:]\n",
        "\n",
        "# number of epochs\n",
        "epochs = 10\n",
        "# learning rate\n",
        "lr = 0.01\n",
        "\n",
        "# initial value for weight w and bias b\n",
        "b = np.zeros(1)\n",
        "\n",
        "for epoch in np.arange(epochs):\n",
        "  for i in np.arange(80):\n",
        "    \n",
        "    y_pred = w1 * train_xs1[i] + w2 * train_xs2[i] + b\n",
        "    \n",
        "    grad_w1 = (y_pred - train_ys[i]) * train_xs1[i]\n",
        "    grad_w2 = (y_pred - train_ys[i]) * train_xs2[i]\n",
        "    \n",
        "    grad_b = (y_pred - train_ys[i])\n",
        "    \n",
        "    w1 -= lr * grad_w1\n",
        "    w2 -= lr * grad_w2\n",
        "    b -= lr * grad_b\n",
        "    \n",
        "test_loss = 0\n",
        "for i in np.arange(20):\n",
        "  test_loss += 0.5 * (w1 * test_xs1[i] + w2 * test_xs2[i] + b - test_ys[i]) ** 2\n",
        "test_loss /= 20\n",
        "\n",
        "test_loss"
      ],
      "execution_count": 12,
      "outputs": [
        {
          "output_type": "execute_result",
          "data": {
            "text/plain": [
              "array([0.20853418])"
            ]
          },
          "metadata": {
            "tags": []
          },
          "execution_count": 12
        }
      ]
    },
    {
      "cell_type": "code",
      "metadata": {
        "id": "PZ87sHWkspe8",
        "colab_type": "code",
        "outputId": "5f923310-2dcc-4aae-80d1-3b1710b2ffb5",
        "colab": {
          "base_uri": "https://localhost:8080/",
          "height": 294
        }
      },
      "source": [
        "pred_ys = w1 * test_xs1 + w2 * test_xs2 + b\n",
        "\n",
        "plt.plot(test_xs1 + test_xs2, test_ys, \"b.\")\n",
        "plt.plot(test_xs1, pred_ys, \"r.\") # predicted values\n",
        "plt.plot(test_xs2, pred_ys, \"g.\")\n",
        "plt.xlabel(\"$x_1$\", fontsize=18)\n",
        "plt.ylabel(\"$y$\", rotation=0, fontsize=18)\n",
        "plt.axis([0, 2, 0, 15])\n",
        "plt.show()"
      ],
      "execution_count": 17,
      "outputs": [
        {
          "output_type": "display_data",
          "data": {
            "image/png": "[encoded data removed]",
            "text/plain": [
              "<Figure size 432x288 with 1 Axes>"
            ]
          },
          "metadata": {
            "tags": []
          }
        }
      ]
    },
    {
      "cell_type": "code",
      "metadata": {
        "id": "x0BCXKRAsup7",
        "colab_type": "code",
        "outputId": "5a5e66dd-c87f-4dde-d6f0-234b56f3a035",
        "colab": {
          "base_uri": "https://localhost:8080/",
          "height": 34
        }
      },
      "source": [
        "b"
      ],
      "execution_count": 18,
      "outputs": [
        {
          "output_type": "execute_result",
          "data": {
            "text/plain": [
              "array([3.25552703])"
            ]
          },
          "metadata": {
            "tags": []
          },
          "execution_count": 18
        }
      ]
    },
    {
      "cell_type": "code",
      "metadata": {
        "id": "w3Y6NlThswJq",
        "colab_type": "code",
        "outputId": "5b2552a1-1cfe-468d-d17a-d323ff3298b7",
        "colab": {
          "base_uri": "https://localhost:8080/",
          "height": 34
        }
      },
      "source": [
        "w1"
      ],
      "execution_count": 20,
      "outputs": [
        {
          "output_type": "execute_result",
          "data": {
            "text/plain": [
              "array([-0.09040373])"
            ]
          },
          "metadata": {
            "tags": []
          },
          "execution_count": 20
        }
      ]
    },
    {
      "cell_type": "code",
      "metadata": {
        "id": "QcZu7iJsnBl6",
        "colab_type": "code",
        "colab": {
          "base_uri": "https://localhost:8080/",
          "height": 34
        },
        "outputId": "92cc902e-1c1a-49fc-d063-5c9fc43cd757"
      },
      "source": [
        "w2"
      ],
      "execution_count": 21,
      "outputs": [
        {
          "output_type": "execute_result",
          "data": {
            "text/plain": [
              "array([0.92982413])"
            ]
          },
          "metadata": {
            "tags": []
          },
          "execution_count": 21
        }
      ]
    }
  ]
}